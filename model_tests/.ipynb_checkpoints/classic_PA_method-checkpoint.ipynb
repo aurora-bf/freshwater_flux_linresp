{
 "cells": [
  {
   "cell_type": "code",
   "execution_count": 1,
   "metadata": {},
   "outputs": [],
   "source": [
    "import scipy.io\n",
    "import netCDF4\n",
    "import xarray as xr\n",
    "import numpy as np\n",
    "import matplotlib\n",
    "import matplotlib.pyplot as plt\n",
    "import os, glob \n",
    "import imageio\n",
    "from matplotlib import animation\n",
    "import copy\n",
    "import cartopy as cart\n",
    "import cartopy.crs as ccrs\n",
    "from cartopy.mpl.ticker import LongitudeFormatter, LatitudeFormatter #see https://scitools.org.uk/cartopy/docs/v0.15/examples/tick_labels.html\n",
    "import certifi\n",
    "import ssl\n",
    "import math\n",
    "ssl._create_default_https_context = ssl._create_unverified_context\n",
    "from scipy import stats\n",
    "from xgcm import Grid\n",
    "import statsmodels.api as sm\n",
    "import matplotlib.ticker as ticker\n",
    "from matplotlib.axes._secondary_axes import SecondaryAxis\n",
    "import xesmf as xe\n",
    "import warnings"
   ]
  },
  {
   "cell_type": "code",
   "execution_count": 3,
   "metadata": {},
   "outputs": [
    {
     "name": "stderr",
     "output_type": "stream",
     "text": [
      "/ext3/miniconda3/lib/python3.9/site-packages/xarray/core/dataarray.py:780: FutureWarning: elementwise comparison failed; returning scalar instead, but in the future will perform elementwise comparison\n",
      "  return key in self.data\n"
     ]
    }
   ],
   "source": [
    "#load in one ensemble member and use it to make a regridder object\n",
    "f='/scratch/abf376/CESM_data/SALT/b.e11.B20TRC5CNBDRD.f09_g16.002.pop.h.SALT.192001-200512.nc'\n",
    "file2read = netCDF4.Dataset(f,'r')\n",
    "#print(file2read.variables)\n",
    "lat = xr.open_dataset(f)['TLAT']\n",
    "lon = xr.open_dataset(f)['TLONG']\n",
    "time=xr.open_dataset(f)['time']\n",
    "depth=xr.open_dataset(f)['z_t']\n",
    "salt2=xr.open_dataset(f)['SALT']\n",
    "\n",
    "ds_out = xe.util.grid_global(1, 1)\n",
    "salt2 = salt2.rename({\"TLAT\": \"lat\", \"TLONG\": \"lon\"})\n",
    "salt2=salt2.drop(\"ULAT\")\n",
    "salt2=salt2.drop(\"ULONG\")\n",
    "regridder_forcesm = xe.Regridder(salt2[:,0,:,:], ds_out, \"bilinear\",periodic=True) #this is now the regridder object that can be applied to any of the original CESM fields\n",
    "regrid_cesm = regridder_forcesm(salt2[:,0,:,:])"
   ]
  },
  {
   "cell_type": "code",
   "execution_count": 4,
   "metadata": {},
   "outputs": [],
   "source": [
    "import pickle\n",
    "with open(\"/scratch/abf376/regridded_salt_1920to2005_historical\", \"rb\") as fp:   # Unpickling regridded salt 1920 to 2005\n",
    "    regridded_salt= pickle.load(fp)\n",
    "\n",
    "with open(\"/scratch/abf376/regridded_salt_2006to2080_rcp8.5\", \"rb\") as fp:   # Unpickling regridded salt 2006 to 2080\n",
    "    regridded_salt_2005on= pickle.load(fp)\n",
    "    \n",
    "with open(\"/scratch/abf376/regridded_temp\", \"rb\") as fp:   # Unpickling regridded temperature 1920 to 2005\n",
    "    regridded_temp= pickle.load(fp)\n",
    "    \n",
    "with open(\"/scratch/abf376/regridded_temp_2006to2080_rcp8.5\", \"rb\") as fp:   # Unpickling regridded temperature 2006 to 2080\n",
    "    regridded_temp_2005on= pickle.load(fp)"
   ]
  },
  {
   "cell_type": "code",
   "execution_count": 5,
   "metadata": {},
   "outputs": [],
   "source": [
    "#Take ensemble mean and then create a new object which is ensemble mean over the period 1970 to 2025\n",
    "salt_avg_pre2005=sum(regridded_salt)/34\n",
    "salt_avg_pre2005=salt_avg_pre2005.rename({'y': 'latitude','x': 'longitude'})\n",
    "salt_avg_pre2005=salt_avg_pre2005.assign_coords(latitude=salt_avg_pre2005.lat[:,0],longitude=salt_avg_pre2005.lon[0,:])\n",
    "\n",
    "salt_avg_2005on=sum(regridded_salt_2005on)/34\n",
    "salt_avg_2005on=salt_avg_2005on.rename({'y': 'latitude','x': 'longitude'})\n",
    "salt_avg_2005on=salt_avg_2005on.assign_coords(latitude=salt_avg_2005on.lat[:,0],longitude=salt_avg_2005on.lon[0,:])\n",
    "\n",
    "salt_avg=xr.concat([salt_avg_pre2005,salt_avg_2005on],dim=\"time\") #concatenate so now this is from 1920 to 2080\n",
    "salt_avg_1975to2020=salt_avg[12*55:12*105,:,:]"
   ]
  },
  {
   "cell_type": "code",
   "execution_count": 13,
   "metadata": {},
   "outputs": [],
   "source": [
    "salt_cesm=np.empty([50,180,360])\n",
    "for j in range(0,50):\n",
    "    salt_cesm[j,:,:]=(salt_avg_1975to2020[j*12:(j+1)*12,:,:].mean('time')).where(salt_avg_1975to2020.latitude<65)\n",
    "salt_cesm=xr.array(data=salt_cesm,dims=[\"time\",\"latitude\",\"longitude\"])"
   ]
  },
  {
   "cell_type": "code",
   "execution_count": 16,
   "metadata": {},
   "outputs": [
    {
     "name": "stderr",
     "output_type": "stream",
     "text": [
      "\n",
      "KeyboardInterrupt\n",
      "\n"
     ]
    }
   ],
   "source": [
    "slopes_error=np.empty([np.size(salt_avg_1975to2020.where(salt_avg_1975to2020.latitude<65).latitude),np.size(salt_avg_1975to2020.where(salt_avg_1975to2020.latitude<65).longitude)]) #we will hold in this object the error on the y variable for when we do a weighted regression\n",
    "slopes=np.empty([np.size(salt_avg_1975to2020.where(salt_avg_1975to2020.latitude<65).latitude),np.size(salt_avg_1975to2020.where(salt_avg_1975to2020.latitude<65).longitude)])\n",
    "for j in list(range(0,np.size(salt_avg_1975to2020.where(salt_avg_1975to2020.latitude<65).longitude))):\n",
    "    for i in list(range(0,np.size(salt_avg_1975to2020.where(salt_avg_1975to2020.latitude<65).latitude))):\n",
    "            slope, intercept, r_value, p_value, std_err=stats.linregress(np.linspace(1,50,50),salt_cesm[:,i,j])\n",
    "            slopes[i,j]=slope\n",
    "            slopes_error[i,j]=std_err #this is the error associated with the original linear fit \n",
    "slopes=xr.DataArray(data=slopes,dims=[\"latitude\",\"longitude\"])"
   ]
  },
  {
   "cell_type": "code",
   "execution_count": null,
   "metadata": {},
   "outputs": [],
   "source": [
    "slopes"
   ]
  }
 ],
 "metadata": {
  "kernelspec": {
   "display_name": "my_env",
   "language": "python",
   "name": "my_env"
  },
  "language_info": {
   "codemirror_mode": {
    "name": "ipython",
    "version": 3
   },
   "file_extension": ".py",
   "mimetype": "text/x-python",
   "name": "python",
   "nbconvert_exporter": "python",
   "pygments_lexer": "ipython3",
   "version": "3.9.7"
  }
 },
 "nbformat": 4,
 "nbformat_minor": 4
}
