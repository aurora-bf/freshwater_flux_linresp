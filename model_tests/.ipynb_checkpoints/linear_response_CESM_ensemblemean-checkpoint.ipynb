{
 "cells": [
  {
   "cell_type": "code",
   "execution_count": 1,
   "metadata": {},
   "outputs": [],
   "source": [
    "import scipy.io\n",
    "import netCDF4\n",
    "import xarray as xr\n",
    "import numpy as np\n",
    "import matplotlib\n",
    "import matplotlib.pyplot as plt\n",
    "import os, glob \n",
    "import imageio\n",
    "from matplotlib import animation\n",
    "import copy\n",
    "import cartopy as cart\n",
    "import cartopy.crs as ccrs\n",
    "from cartopy.mpl.ticker import LongitudeFormatter, LatitudeFormatter #see https://scitools.org.uk/cartopy/docs/v0.15/examples/tick_labels.html\n",
    "import certifi\n",
    "import ssl\n",
    "import math\n",
    "ssl._create_default_https_context = ssl._create_unverified_context\n",
    "from scipy import stats\n",
    "from xgcm import Grid\n",
    "import statsmodels.api as sm\n",
    "import matplotlib.ticker as ticker\n",
    "from matplotlib.axes._secondary_axes import SecondaryAxis\n",
    "import xesmf as xe"
   ]
  },
  {
   "cell_type": "markdown",
   "metadata": {},
   "source": [
    "We load in the ensemble members and regrid them to a 1x1 grid. Note, these next two cells will take a long time as they are loading in all the salt fields and then regridding them. Instead we can unpickle the fields that are already regridded if we want (3rd cell after this comment)."
   ]
  },
  {
   "cell_type": "code",
   "execution_count": 3,
   "metadata": {},
   "outputs": [
    {
     "name": "stderr",
     "output_type": "stream",
     "text": [
      "\n",
      "KeyboardInterrupt\n",
      "\n"
     ]
    }
   ],
   "source": [
    "#load in one ensemble member and use it to make a regridder object\n",
    "f='/scratch/abf376/CESM_data/SALT/b.e11.B20TRC5CNBDRD.f09_g16.002.pop.h.SALT.192001-200512.nc'\n",
    "file2read = netCDF4.Dataset(f,'r')\n",
    "#print(file2read.variables)\n",
    "lat = xr.open_dataset(f)['TLAT']\n",
    "lon = xr.open_dataset(f)['TLONG']\n",
    "time=xr.open_dataset(f)['time']\n",
    "depth=xr.open_dataset(f)['z_t']\n",
    "salt2=xr.open_dataset(f)['SALT']\n",
    "\n",
    "ds_out = xe.util.grid_global(1, 1)\n",
    "salt2 = salt2.rename({\"TLAT\": \"lat\", \"TLONG\": \"lon\"})\n",
    "salt2=salt2.drop(\"ULAT\")\n",
    "salt2=salt2.drop(\"ULONG\")\n",
    "regridder_forcesm = xe.Regridder(salt2[:,0,:,:], ds_out, \"bilinear\",periodic=True) #this is now the regridder object that can be applied to any of the original CESM fields\n",
    "regrid_cesm = regridder_forcesm(salt2[:,0,:,:])"
   ]
  },
  {
   "cell_type": "code",
   "execution_count": null,
   "metadata": {},
   "outputs": [],
   "source": [
    "#Preferably skip this cell and just load in the pickled regridded objects!!\n",
    "\n",
    "#list of salinity field for all ensemble members (pre 2005, historical runs)\n",
    "salt=[]\n",
    "for i in range(2,36):\n",
    "    if i<10:\n",
    "        f=\"/scratch/abf376/CESM_data/SALT/b.e11.B20TRC5CNBDRD.f09_g16.00%d.pop.h.SALT.192001-200512.nc\" % i\n",
    "    else:\n",
    "        f=\"/scratch/abf376/CESM_data/SALT/b.e11.B20TRC5CNBDRD.f09_g16.0%d.pop.h.SALT.192001-200512.nc\" % i\n",
    "    s=xr.open_dataset(f)['SALT']\n",
    "    salt.append(s[:,0,:,:])\n",
    "    \n",
    "#regrid salt field for all ensemble members\n",
    "regridded_salt=[]\n",
    "for i in range(0,34):\n",
    "    s = regridder_cesmtocesm2(salt[i])\n",
    "    regridded_salt.append(s)\n",
    "    \n",
    "#salinity field for all ensemble members (2005 onwards)\n",
    "salt_2005on=[]\n",
    "for i in range(2,36):\n",
    "    if i<10:\n",
    "        f=\"/scratch/abf376/CESM_data/SALT/b.e11.BRCP85C5CNBDRD.f09_g16.00%d.pop.h.SALT.200601-208012.nc\" % i\n",
    "    elif i<34:\n",
    "        f=\"/scratch/abf376/CESM_data/SALT/b.e11.BRCP85C5CNBDRD.f09_g16.0%d.pop.h.SALT.200601-208012.nc\" % i\n",
    "    else:\n",
    "        f=\"/scratch/abf376/CESM_data/SALT/b.e11.BRCP85C5CNBDRD.f09_g16.0%d.pop.h.SALT.200601-210012.nc\" % i\n",
    "    s=xr.open_dataset(f)['SALT']\n",
    "    salt_2005on.append(s[:,0,:,:])\n",
    "    \n",
    "#regid salt field\n",
    "regridded_salt_2005on=[]\n",
    "for i in range(0,34):\n",
    "    s = regridder_cesmtocesm2(salt_2005on[i])\n",
    "    regridded_salt_2005on.append(s)\n",
    "    print(i)\n",
    "\n",
    "\n",
    "temp=[]\n",
    "for i in range(2,36):\n",
    "    if i<10:\n",
    "        f=\"/scratch/abf376/CESM_data/TEMP/b.e11.B20TRC5CNBDRD.f09_g16.00%d.pop.h.TEMP.192001-200512.nc\" % i\n",
    "    else:\n",
    "        f=\"/scratch/abf376/CESM_data/TEMP/b.e11.B20TRC5CNBDRD.f09_g16.0%d.pop.h.TEMP.192001-200512.nc\" % i\n",
    "    s=xr.open_dataset(f)['TEMP']\n",
    "    temp.append(s[:,0,:,:])\n",
    "\n",
    "#take mean of the salt members\n",
    "temp_2005on=[]\n",
    "for i in range(2,36):\n",
    "    if i<10:\n",
    "        f=\"/scratch/abf376/CESM_data/TEMP/b.e11.BRCP85C5CNBDRD.f09_g16.00%d.pop.h.TEMP.200601-208012.nc\" % i\n",
    "    elif i<34:\n",
    "        f=\"/scratch/abf376/CESM_data/TEMP/b.e11.BRCP85C5CNBDRD.f09_g16.0%d.pop.h.TEMP.200601-208012.nc\" % i\n",
    "    else:\n",
    "        f=\"/scratch/abf376/CESM_data/TEMP/b.e11.BRCP85C5CNBDRD.f09_g16.0%d.pop.h.TEMP.200601-210012.nc\" % i\n",
    "    s=xr.open_dataset(f)['TEMP']\n",
    "    temp_2005on.append(s[:,0,:,:])\n",
    "    \n",
    "regridded_temp=[]\n",
    "for i in range(0,34):\n",
    "    s = regridder_cesmtocesm2(temp[i])\n",
    "    regridded_temp.append(s)\n",
    "    print(i)\n",
    "    \n",
    "\n",
    "regridded_temp_2005on=[]\n",
    "for i in range(0,34):\n",
    "    s = regridder_cesmtocesm2(temp_2005on[i])\n",
    "    regridded_temp_2005on.append(s)\n",
    "    print(i)"
   ]
  },
  {
   "cell_type": "code",
   "execution_count": 4,
   "metadata": {},
   "outputs": [],
   "source": [
    "import pickle\n",
    "with open(\"regridded_salt_1920to2005_historical\", \"rb\") as fp:   # Unpickling regridded salt 1920 to 2005\n",
    "    regridded_salt= pickle.load(fp)\n",
    "\n",
    "with open(\"regridded_salt_2006to2080_rcp8.5\", \"rb\") as fp:   # Unpickling regridded salt 2006 to 2080\n",
    "    regridded_salt_2005on= pickle.load(fp)\n",
    "    \n",
    "with open(\"regridded_temp\", \"rb\") as fp:   # Unpickling regridded temperature 1920 to 2005\n",
    "    regridded_temp= pickle.load(fp)\n",
    "    \n",
    "with open(\"regridded_temp_2006to2080_rcp8.5\", \"rb\") as fp:   # Unpickling regridded temperature 2006 to 2080\n",
    "    regridded_temp_2005on= pickle.load(fp)"
   ]
  },
  {
   "cell_type": "code",
   "execution_count": 5,
   "metadata": {},
   "outputs": [],
   "source": [
    "#Take ensemble mean and then create a new object which is ensemble mean over the period 1970 to 2019\n",
    "salt_avg_pre2005=sum(regridded_salt)/34\n",
    "salt_avg_pre2005=salt_avg_pre2005.rename({'y': 'latitude','x': 'longitude'})\n",
    "salt_avg_pre2005=salt_avg_pre2005.assign_coords(latitude=salt_avg_pre2005.lat[:,0],longitude=salt_avg_pre2005.lon[0,:])\n",
    "\n",
    "salt_avg_2005on=sum(regridded_salt_2005on)/34\n",
    "salt_avg_2005on=salt_avg_2005on.rename({'y': 'latitude','x': 'longitude'})\n",
    "salt_avg_2005on=salt_avg_2005on.assign_coords(latitude=salt_avg_2005on.lat[:,0],longitude=salt_avg_2005on.lon[0,:])\n",
    "\n",
    "salt_avg=xr.concat([salt_avg_pre2005,salt_avg_2005on],dim=\"time\") #concatenate so now this is from 1920 to 2080\n",
    "salt_avg_1970to2020=salt_avg[12*55:12*105,:,:]"
   ]
  },
  {
   "cell_type": "code",
   "execution_count": 6,
   "metadata": {},
   "outputs": [],
   "source": [
    "#Take ensemble mean and then create a new object which is ensemble mean temperature over the period 1970 to 2019\n",
    "temp_avg_pre2005=sum(regridded_temp)/34\n",
    "temp_avg_pre2005=temp_avg_pre2005.rename({'y': 'latitude','x': 'longitude'})\n",
    "temp_avg_pre2005=temp_avg_pre2005.assign_coords(latitude=temp_avg_pre2005.lat[:,0],longitude=temp_avg_pre2005.lon[0,:])\n",
    "\n",
    "temp_avg_2005on=sum(regridded_temp_2005on)/34\n",
    "temp_avg_2005on=temp_avg_2005on.rename({'y': 'latitude','x': 'longitude'})\n",
    "temp_avg_2005on=temp_avg_2005on.assign_coords(latitude=temp_avg_2005on.lat[:,0],longitude=temp_avg_2005on.lon[0,:])\n",
    "\n",
    "temp_avg=xr.concat([temp_avg_pre2005,temp_avg_2005on],dim=\"time\") #concatenate so now this is from 1920 to 2080\n",
    "temp_avg_1970to2020=temp_avg[12*55:12*105,:,:] "
   ]
  },
  {
   "cell_type": "markdown",
   "metadata": {},
   "source": [
    "Create area grid "
   ]
  },
  {
   "cell_type": "code",
   "execution_count": 7,
   "metadata": {},
   "outputs": [],
   "source": [
    "from area_grid import *\n",
    "\n",
    "area=area_grid(latitudes=np.array(salt_avg[0,:,:].latitude),longitudes=salt_avg[0,:,:].longitude)\n",
    "area=xr.DataArray(area,dims=[\"latitude\",\"longitude\"],coords=[salt_avg[0,:,:].latitude,salt_avg[0,:,:].longitude])"
   ]
  },
  {
   "cell_type": "markdown",
   "metadata": {},
   "source": [
    "Cluster the surface salinity based on 1975 to 1978"
   ]
  },
  {
   "cell_type": "code",
   "execution_count": 9,
   "metadata": {},
   "outputs": [
    {
     "ename": "ModuleNotFoundError",
     "evalue": "No module named 'clustering_tools'",
     "output_type": "error",
     "traceback": [
      "\u001b[0;31m---------------------------------------------------------------------------\u001b[0m",
      "\u001b[0;31mModuleNotFoundError\u001b[0m                       Traceback (most recent call last)",
      "Input \u001b[0;32mIn [9]\u001b[0m, in \u001b[0;36m<cell line: 4>\u001b[0;34m()\u001b[0m\n\u001b[1;32m      2\u001b[0m \u001b[38;5;66;03m#sys.path.append('/scratch/abf376/freshwater_flux_linresp/tools')\u001b[39;00m\n\u001b[1;32m      3\u001b[0m sys\u001b[38;5;241m.\u001b[39mpath\u001b[38;5;241m.\u001b[39mappend(os\u001b[38;5;241m.\u001b[39mpath\u001b[38;5;241m.\u001b[39mjoin(os\u001b[38;5;241m.\u001b[39mpath\u001b[38;5;241m.\u001b[39mdirname(sys\u001b[38;5;241m.\u001b[39mpath[\u001b[38;5;241m0\u001b[39m]),\u001b[38;5;124m'\u001b[39m\u001b[38;5;124mtools\u001b[39m\u001b[38;5;124m'\u001b[39m))\n\u001b[0;32m----> 4\u001b[0m \u001b[38;5;28;01mfrom\u001b[39;00m \u001b[38;5;21;01mclustering_tools\u001b[39;00m \u001b[38;5;28;01mimport\u001b[39;00m \u001b[38;5;241m*\u001b[39m\n\u001b[1;32m      5\u001b[0m \u001b[38;5;28;01mimport\u001b[39;00m \u001b[38;5;21;01mseaborn\u001b[39;00m \u001b[38;5;28;01mas\u001b[39;00m \u001b[38;5;21;01msns\u001b[39;00m\n\u001b[1;32m      6\u001b[0m \u001b[38;5;28;01mimport\u001b[39;00m \u001b[38;5;21;01mmatplotlib\u001b[39;00m \u001b[38;5;28;01mas\u001b[39;00m \u001b[38;5;21;01mmpl\u001b[39;00m\n",
      "\u001b[0;31mModuleNotFoundError\u001b[0m: No module named 'clustering_tools'"
     ]
    }
   ],
   "source": [
    "import sys, os\n",
    "#sys.path.append('/scratch/abf376/freshwater_flux_linresp/tools')\n",
    "sys.path.append(os.path.join(os.path.dirname(sys.path[0]),'tools'))\n",
    "from clustering_tools import *\n",
    "import seaborn as sns\n",
    "import matplotlib as mpl\n",
    "mpl.rcParams['figure.dpi'] = 300\n",
    "sns.set_style(style=\"whitegrid\") #comment out if don't want seaborn background\n",
    "AIC_BIC_timedep(salt_avg_1970to2020[0*12:3*12,:,:].mean('time'),'CESM data, mean 1975 to 1978')"
   ]
  },
  {
   "cell_type": "code",
   "execution_count": null,
   "metadata": {},
   "outputs": [],
   "source": []
  }
 ],
 "metadata": {
  "kernelspec": {
   "display_name": "my_env",
   "language": "python",
   "name": "my_env"
  },
  "language_info": {
   "codemirror_mode": {
    "name": "ipython",
    "version": 3
   },
   "file_extension": ".py",
   "mimetype": "text/x-python",
   "name": "python",
   "nbconvert_exporter": "python",
   "pygments_lexer": "ipython3",
   "version": "3.9.7"
  }
 },
 "nbformat": 4,
 "nbformat_minor": 4
}
