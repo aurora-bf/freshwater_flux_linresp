{
 "cells": [
  {
   "cell_type": "code",
   "execution_count": null,
   "metadata": {},
   "outputs": [],
   "source": [
    "There are also other methods including integrating the change in the strength of the pattern and making it follow the large scale features of the FAFMIP perturbation - i.e. integrating over where wfo is positive and negative separately and summing"
   ]
  },
  {
   "cell_type": "code",
   "execution_count": null,
   "metadata": {},
   "outputs": [],
   "source": [
    "change_EP_pattern_timesarea=np.empty(50)\n",
    "for i in range(0,50):\n",
    "    change_EP_pattern_timesarea[i]=(((salt_flux_avg_1970to2019[i*12:(i+1)*12,:,:].mean('time')-climatological_salt_flux)/(np.sign(wfo.mean('time'))))*area.where(area.latitude<65)).sum()\n",
    "a=((np.abs(wfo.mean('time'))*area.where(area.latitude<65)).sum()) #scaling of strength of wfo pattern"
   ]
  },
  {
   "cell_type": "code",
   "execution_count": null,
   "metadata": {},
   "outputs": [],
   "source": [
    "plt.plot(np.linspace(1975,2019,45),change_EP_pattern_timesarea[5:50])"
   ]
  },
  {
   "cell_type": "code",
   "execution_count": null,
   "metadata": {},
   "outputs": [],
   "source": [
    "(((np.abs(wfo.mean('time'))*area.where(area.latitude<65)).sum())).astype(float)"
   ]
  }
 ],
 "metadata": {
  "kernelspec": {
   "display_name": "my_env",
   "language": "python",
   "name": "my_env"
  },
  "language_info": {
   "codemirror_mode": {
    "name": "ipython",
    "version": 3
   },
   "file_extension": ".py",
   "mimetype": "text/x-python",
   "name": "python",
   "nbconvert_exporter": "python",
   "pygments_lexer": "ipython3",
   "version": "3.9.7"
  }
 },
 "nbformat": 4,
 "nbformat_minor": 4
}
