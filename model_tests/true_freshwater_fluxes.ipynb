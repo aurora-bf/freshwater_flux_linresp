{
 "cells": [
  {
   "cell_type": "markdown",
   "metadata": {},
   "source": [
    "To test that linear response theory is recovering the true amplification of freshwater fluxes, we need to evaluate the amplification of fluxes from CESM flux fields. Note that as linear response theory is finding the change in freshwater fluxes as a proportion of the FAFMIP perturbation, the truth is not exactly the change in magnitude of freshwater fluxes, but rather the change of the projection of the freshwater fluxes onto the FAFMIP pattern. "
   ]
  },
  {
   "cell_type": "code",
   "execution_count": 1,
   "metadata": {},
   "outputs": [],
   "source": [
    "import scipy.io\n",
    "import netCDF4\n",
    "import xarray as xr\n",
    "import numpy as np\n",
    "import matplotlib as mpl\n",
    "import matplotlib.pyplot as plt\n",
    "import os, glob \n",
    "import imageio\n",
    "from matplotlib import animation\n",
    "import copy\n",
    "import cartopy as cart\n",
    "import cartopy.crs as ccrs\n",
    "from cartopy.mpl.ticker import LongitudeFormatter, LatitudeFormatter #see https://scitools.org.uk/cartopy/docs/v0.15/examples/tick_labels.html\n",
    "import certifi\n",
    "import ssl\n",
    "import math\n",
    "ssl._create_default_https_context = ssl._create_unverified_context\n",
    "from scipy import stats\n",
    "from xgcm import Grid\n",
    "import statsmodels.api as sm\n",
    "import matplotlib.ticker as ticker\n",
    "from matplotlib.axes._secondary_axes import SecondaryAxis\n",
    "import xesmf as xe"
   ]
  },
  {
   "cell_type": "code",
   "execution_count": 4,
   "metadata": {},
   "outputs": [],
   "source": [
    "#First, load in all the freshwater fluxes. See notebook processing_salt_fluxes.py for how to generate this files that we unpickle here\n",
    "\n",
    "import pickle\n",
    "with open(\"/scratch/abf376/regridded_salt_flux_historical\", \"rb\") as fp:   #Unpickling, replace string with drectory where pickled file lives\n",
    "    regridded=pickle.load(fp)\n",
    "\n",
    "with open(\"/scratch/abf376/regridded_salt_flux_2005on\", \"rb\") as fp:   #Unpickling\n",
    "    regridded_2005on=pickle.load(fp)"
   ]
  },
  {
   "cell_type": "markdown",
   "metadata": {},
   "source": [
    "First we calculate the true fluxes for the ensemble mean"
   ]
  },
  {
   "cell_type": "code",
   "execution_count": 5,
   "metadata": {},
   "outputs": [],
   "source": [
    "#average over ensemble member\n",
    "salt_flux_avg_pre2005=sum(regridded)/34\n",
    "salt_flux_avg_pre2005=salt_flux_avg_pre2005.rename({'y': 'latitude','x': 'longitude'})\n",
    "salt_flux_avg_pre2005=salt_flux_avg_pre2005.assign_coords(latitude=salt_flux_avg_pre2005.lat[:,0],longitude=salt_flux_avg_pre2005.lon[0,:])\n",
    "\n",
    "salt_flux_avg_2005on=sum(regridded_2005on)/34\n",
    "salt_flux_avg_2005on=salt_flux_avg_2005on.rename({'y': 'latitude','x': 'longitude'})\n",
    "salt_flux_avg_2005on=salt_flux_avg_2005on.assign_coords(latitude=salt_flux_avg_2005on.lat[:,0],longitude=salt_flux_avg_2005on.lon[0,:])"
   ]
  },
  {
   "cell_type": "code",
   "execution_count": 6,
   "metadata": {},
   "outputs": [
    {
     "name": "stdout",
     "output_type": "stream",
     "text": [
      "[1970. 1971. 1972. 1973. 1974. 1975. 1976. 1977. 1978. 1979. 1980. 1981.\n",
      " 1982. 1983. 1984. 1985. 1986. 1987. 1988. 1989. 1990. 1991. 1992. 1993.\n",
      " 1994. 1995. 1996. 1997. 1998. 1999. 2000. 2001. 2002. 2003. 2004. 2005.\n",
      " 2006. 2007. 2008. 2009. 2010. 2011. 2012. 2013. 2014. 2015. 2016. 2017.\n",
      " 2018. 2019.]\n"
     ]
    }
   ],
   "source": [
    "salt_avg=xr.concat([salt_flux_avg_pre2005,salt_flux_avg_2005on],dim=\"time\") #concatenate so now this is from 1920 to 2080\n",
    "salt_flux_avg_1970to2019=salt_avg[12*50:12*100,:,:] #salt_avg was from 1920 to 2080 so this is from 1970 to 2019\n",
    "a=np.linspace(1920,2080,161)\n",
    "print(a[50:100])\n",
    "\n",
    "climatological_salt_flux=salt_avg[0:12*55,:,:].mean('time') #this is 1920 to 1975"
   ]
  },
  {
   "cell_type": "code",
   "execution_count": 7,
   "metadata": {},
   "outputs": [],
   "source": [
    "#create area grid\n",
    "\n",
    "import sys\n",
    "sys.path.insert(1, '/scratch/abf376/')\n",
    "from area_grid import *\n",
    "\n",
    "area=area_grid(latitudes=np.array(salt_flux_avg_pre2005[0,:,:].latitude),longitudes=salt_flux_avg_pre2005[0,:,:].longitude)\n",
    "area=xr.DataArray(area,dims=[\"latitude\",\"longitude\"],coords=[salt_flux_avg_pre2005[0,:,:].latitude,salt_flux_avg_pre2005[0,:,:].longitude])"
   ]
  },
  {
   "cell_type": "code",
   "execution_count": 9,
   "metadata": {},
   "outputs": [],
   "source": [
    "#water flux from fafmip\n",
    "f='/scratch/abf376/FAFMIP_wfo_v2.nc' #this is the first 50 years\n",
    "file2read = netCDF4.Dataset(f,'r')\n",
    "#print(file2read.variables)\n",
    "wfo = xr.open_dataset(f)['water_flux_into_sea_water']\n",
    "wfo=wfo.where(wfo<1E19)\n",
    "\n",
    "\n",
    "area_wfo=area_grid(latitudes=np.array(wfo.latitude),longitudes=wfo.longitude)\n",
    "area_wfo=xr.DataArray(area,dims=[\"latitude\",\"longitude\"],coords=[wfo.latitude,wfo.longitude])"
   ]
  },
  {
   "cell_type": "code",
   "execution_count": 11,
   "metadata": {},
   "outputs": [
    {
     "name": "stderr",
     "output_type": "stream",
     "text": [
      "/ext3/miniconda3/lib/python3.9/site-packages/xarray/core/dataarray.py:780: FutureWarning: elementwise comparison failed; returning scalar instead, but in the future will perform elementwise comparison\n",
      "  return key in self.data\n",
      "/ext3/miniconda3/lib/python3.9/site-packages/xesmf/smm.py:130: UserWarning: Input array is not C_CONTIGUOUS. Will affect performance.\n",
      "  warnings.warn('Input array is not C_CONTIGUOUS. ' 'Will affect performance.')\n"
     ]
    }
   ],
   "source": [
    "#regrid wfo\n",
    "ds_out = xe.util.grid_global(1, 1)\n",
    "regridder_wfo= xe.Regridder(wfo, ds_out, \"bilinear\",periodic=True)\n",
    "wfo = regridder_wfo(wfo)\n",
    "wfo=wfo.assign_coords(latitude=wfo.lat[:,0],longitude=wfo.lon[0,:])"
   ]
  },
  {
   "cell_type": "code",
   "execution_count": null,
   "metadata": {},
   "outputs": [],
   "source": [
    "#now we want to compute the "
   ]
  }
 ],
 "metadata": {
  "kernelspec": {
   "display_name": "my_env",
   "language": "python",
   "name": "my_env"
  },
  "language_info": {
   "codemirror_mode": {
    "name": "ipython",
    "version": 3
   },
   "file_extension": ".py",
   "mimetype": "text/x-python",
   "name": "python",
   "nbconvert_exporter": "python",
   "pygments_lexer": "ipython3",
   "version": "3.9.7"
  }
 },
 "nbformat": 4,
 "nbformat_minor": 4
}
